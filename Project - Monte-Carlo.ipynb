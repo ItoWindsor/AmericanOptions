{
 "cells": [
  {
   "cell_type": "markdown",
   "id": "alternate-spokesman",
   "metadata": {},
   "source": [
    "# Monte-Carlo and Finite Difference\n",
    "## American Options"
   ]
  },
  {
   "cell_type": "code",
   "execution_count": 1,
   "id": "scientific-medium",
   "metadata": {},
   "outputs": [],
   "source": [
    "import numpy as np\n",
    "import matplotlib.pyplot as plt \n",
    "import scipy.stats as st\n",
    "from scipy.optimize import curve_fit\n",
    "from mpl_toolkits.mplot3d import Axes3D\n",
    "from scipy.sparse import diags\n",
    "from matplotlib import cm\n",
    "from tqdm import tqdm\n",
    "from scipy.stats import norm\n",
    "\n",
    "log = np.log \n",
    "exp = np.exp \n",
    "sqrt = np.sqrt\n",
    "ncdf = norm.cdf"
   ]
  },
  {
   "cell_type": "code",
   "execution_count": 2,
   "id": "floppy-zealand",
   "metadata": {},
   "outputs": [],
   "source": [
    "# Financial data \n",
    "S0 = 100 # Initial underlying price\n",
    "r_input = 0.06 # Risk-free rate\n",
    "sigma = 0.4 # Volatility\n",
    "K = 100 # Strike\n",
    "T = 0.5 # Maturity\n",
    "\n",
    "\n",
    "# Numerical data \n",
    "MC = 1000 # Number of paths\n",
    "m = 1à0 # Number of time steps\n",
    "t = np.linspace(0,T,m+1)[np.newaxis,:] # Corresponding time grid"
   ]
  },
  {
   "cell_type": "markdown",
   "id": "single-miniature",
   "metadata": {},
   "source": [
    "### abstract"
   ]
  },
  {
   "cell_type": "markdown",
   "id": "blond-cedar",
   "metadata": {},
   "source": [
    "This project is part of the evaluation of the course \"Monte Carlo and Finite Difference\" of the MASEF (ex DEA-MASE) of the University Paris Dauphine. The objective is to use the knowledge acquired during the course to understand a corpus of scientific articles, to be able to understand and reproduce the reasoning and algorithms described there. Our choice of subject is the pricing of American options and this choice is not innocuous as it also allows us to link elements seen during the course \"Stochastic Control\".           \n",
    "Therefore we will in this project explain what is an american option, the difficulty linked to its pricing, how it can be overcame and we will even go further by studying other properties of american options. The first section deals with how it can be priced through Monte-Carlo, finding a lower and an upper bound of the price. The second sections deals with how it can be priced through PDE, numerical schemes involved and how we can compute greeks."
   ]
  },
  {
   "cell_type": "markdown",
   "id": "minute-pressing",
   "metadata": {},
   "source": [
    "* Introduction\n",
    "* pricing by Monte-Carlo\n",
    "     + context\n",
    "     + lower bound \n",
    "         + The problem\n",
    "         + The Longstaff Schwartz Algorithm\n",
    "     + upper bound \n",
    "         + The dual problem\n",
    "         + Constructing the good martingale \n",
    "* Pricing by PDE \n",
    "    + General Stuff\n",
    "        + Context, PDE and stuff like this\n",
    "        + Well Posed PDE\n",
    "    + Numerical methods\n",
    "        + General numerical stuff\n",
    "        + Implicit Scheme\n",
    "        + Pricing of an american put\n",
    "        + error of the scheme\n",
    "        + (BONUS) Proposition for a better solver \n",
    "            + (BONUS) LU and SOR \n",
    "            + (BONUS) Richardson extrapolation\n",
    "    + (BONUS) The impact of interest rates \n",
    "        + (BONUS) Evolution of the price with different interest rates : european vs US PUT option\n",
    "        + (BONUS) Continuation and stopping region\n",
    "    + (BONUS) Greeks\n",
    "        + (BONUS) Delta \n",
    "        + (BONUS) Gamma\n",
    "* Conclusion"
   ]
  },
  {
   "cell_type": "markdown",
   "id": "approved-principal",
   "metadata": {},
   "source": [
    "### Introduction"
   ]
  },
  {
   "cell_type": "markdown",
   "id": "swiss-lighter",
   "metadata": {},
   "source": [
    "On financial markets there exist special contracts entitled : options. Those contracts give the right (not the obligation) to the holder to exercise the contract.         \n",
    "These contracts can be divided in two big families, european and american options. The difference between those two is that for european options, the holder can only exercise its right at the maturity of the option whereas for american options, the holder can exercise his right at any time prior to the maturity. This simple difference leads to many difficulty in the pricing of such contracts. In this project we will see methods to price an american option by probabilistic method (and get a good confidence interval) as well as deterministic methods. A big part of the probabilistic method is due to L. C. G. Rogers as he gives a dual formulation of the pricing of the american option. For the PDE part, we will focus on numerical schemes and the difference between pricing an european option and it's american counterpart. Finally We will as well calculate the greeks : Delta and Gamma. "
   ]
  },
  {
   "cell_type": "markdown",
   "id": "framed-moses",
   "metadata": {},
   "source": [
    "### I - Pricing by Monte-Carlo"
   ]
  },
  {
   "cell_type": "markdown",
   "id": "mature-district",
   "metadata": {},
   "source": [
    "#### I.1 - Context"
   ]
  },
  {
   "cell_type": "markdown",
   "id": "bibliographic-pixel",
   "metadata": {},
   "source": [
    "T > 0 time horizon         \n",
    "$\\left( \\Omega, \\mathcal{F}, \\left( \\mathcal{F}_t \\right)_{0 \\leq t \\leq T}, \\mathbb{P} \\right)$ filtered space\n",
    "Suppose that the market is complete etc. unique martingale equivalent measure $\\mathbb{Q}$          \n",
    "$r_t$ the adapted process for the interest rate. It will be supposed to be deterministic      \n",
    "$S_t$ is the price of the underlying which is the solution of the following SDE : \n",
    "$$\n",
    "\\begin{align*}\n",
    "    dS_t &= S_t \\left( r dt + \\sigma dW_t \\right) \\\\\n",
    "    S_{t_0} &= x\n",
    "\\end{align*}\n",
    "$$\n",
    "In fact S_t can even be : $S_t = \\left( S_t^1 , ... , S_t^{d} \\right)$ if the product depends on d assets       \n",
    "We will also is the following flow notation : $S_t = S_t^{t_0, x_0}$        \n",
    "$\\tilde{Z}_t$ the adapted process entitled the reward process also called payoff. The reward process is generally a function of the underlying asset $S_t$, i.e : $\\tilde{Z}_t = f(S_t)$. There can be much more parameters and here $(S_t)$ can live in any dimension.         \n",
    "$Z_t = \\exp \\left( - \\int_{0}^{t} r_s ds \\right) \\tilde{Z}_t$ the discounted exercise value of the option.         \n",
    "....      \n",
    "An american option is an option that gives the right to the holder to excerise the option at any time prior to the maturity. Therefore this kind of options is more flexible than their european counterparts as one can exerce before the maturity. let's denote by $v(t,x)$ the price of an american option at time **t** and $\\bf{S_t = x}$ :\n",
    "$$\n",
    "\\begin{equation}\n",
    "    v(t,x) = \\underset{\\tau \\in \\mathcal{T}_t}{essup} \\left( \\mathbb{E}^{\\mathbb{Q}} \\left[ Z_{\\tau} \\middle| \\mathcal{F}_t \\right] \\right)\n",
    "\\end{equation}\n",
    "$$\n",
    "Where $\\mathcal{T}_t$ denotes the set of stopping times with values in $[t;T]$"
   ]
  },
  {
   "cell_type": "markdown",
   "id": "operational-fishing",
   "metadata": {},
   "source": [
    "Defined like this, the family $(v(t,.))_{t \\in [0,t]}$ is called the snell-eveloppe of the process $(Z_t)_{t \\in [0,T]}$"
   ]
  },
  {
   "cell_type": "markdown",
   "id": "lined-douglas",
   "metadata": {},
   "source": [
    "#### I.2 - Lower-Bound"
   ]
  },
  {
   "cell_type": "markdown",
   "id": "inside-handy",
   "metadata": {},
   "source": [
    "##### I.2.1 - The problem"
   ]
  },
  {
   "cell_type": "markdown",
   "id": "operating-gospel",
   "metadata": {},
   "source": [
    "First of all, as we are dealing with numerical methods, we will have to discretize the time interval, i.e : define $(t_i)_{0 \\leq i \\leq m}$ such that : $0 = t_0 < t_1 < ... < t_m = T$      \n",
    "\n",
    "One may remark that by doing so, we can only obtain a lower bound (i.e : suboptimal value) of the true price of an american option. Indeed as the sup is only in $[t_0, t_1, .. , t_m]$ sup dans sup t'as capté .... (need to better explain this)        \n",
    "As stated in **Glasserman's book** (Monte Carlo methods in financial engineering) the price of an american option as the following dynamic programming equation : \n",
    "$$\n",
    "\\begin{align*}\n",
    "    \\tilde{v}(t_m,x) &= \\tilde{Z}_{t_m} \\\\\n",
    "    \\tilde{v}(t_{i-1},x) &= \\max \\left( \\tilde{Z}_{t_i} \\text{ , } \\mathbb{E} \\left[ D_{i-1,i} \\tilde{v} \\left( t_i, S_{t_i}^{t_{i-1}, x } \\right) \\middle| S_{t_{i-1}} = x  \\right] \\right) \\quad \\forall i \\in [1,m]\n",
    "\\end{align*}\n",
    "$$\n",
    "where : \n",
    "- $D_{i-1,i} = \\exp \\left( - \\int_{t_{i-1}}^{t_i} r_s ds \\right)$      \n",
    "If $r$ is constant and the time discretization is such that $t_i = i\\frac{T}{m} = i h$ then we can call the discount factor over one period $D$ and $D = \\exp \\left( -r h \\right)$       \n",
    "Thus we have a backward formulation of the problem.         \n",
    "The dynamic programming formulation see the option pricing problem as finding the right value but it's the same as finding the good stopping rule (i.e a stopping time $\\tau$ such that $v(t,x) = \\mathbb{E} \\left[ \\tilde{Z}_{\\tau} \\middle| \\mathcal{F_t} \\right]$ "
   ]
  },
  {
   "cell_type": "markdown",
   "id": "associate-specialist",
   "metadata": {},
   "source": [
    "##### I.2.2 - The Longstaff Schwartz  algorithm"
   ]
  },
  {
   "cell_type": "markdown",
   "id": "passive-techno",
   "metadata": {},
   "source": [
    "The longstaff Schwartz algorithm is a regression based method. Indeed (continue explanation)"
   ]
  },
  {
   "cell_type": "markdown",
   "id": "preceding-employer",
   "metadata": {},
   "source": [
    "basis functions used here :\n",
    "$$\n",
    "\\begin{align*}\n",
    "    f_1 &: x \\rightarrow 1 \\\\\n",
    "    f_2 &: x \\rightarrow x \\\\\n",
    "    f_3 &: x \\rightarrow x^2 \n",
    "\\end{align*}\n",
    "$$"
   ]
  },
  {
   "cell_type": "code",
   "execution_count": 3,
   "id": "beneficial-killing",
   "metadata": {},
   "outputs": [],
   "source": [
    "# Longstaff-Schwartz regression basis \n",
    "basis1 = lambda x : 1\n",
    "basis2 = lambda x : x\n",
    "basis3 = lambda x : x**2\n",
    "\n",
    "f = lambda x,alpha1,alpha2,alpha3 : alpha1*basis1(x) + alpha2*basis2(x) + alpha3*basis3(x) # Longstaff-Schwartz regression function"
   ]
  },
  {
   "cell_type": "markdown",
   "id": "purple-thumb",
   "metadata": {},
   "source": [
    "We want to find $\\alpha_1, \\alpha_2, \\alpha_3$ such that for $f$ defined as :\n",
    "$$\n",
    "\\begin{equation*}\n",
    "f : x \\rightarrow \\alpha_1 + \\alpha_2 x + \\alpha_3 x^{2}\n",
    "\\end{equation*}\n",
    "$$\n",
    "can be used such that : $f(S_{t_{k}})$ is a good approximation of : $ \\mathbb{E} \\left[ v(t_{k+1}, S_{t_{k+1}}) | S_{t_k} \\right] $ \n",
    "$$\n",
    "\\begin{equation*}\n",
    "    \\mathbb{E} \\left[ v(t_{k+1}, S_{t_{k+1}}) | S_{t_k} \\right] \\approx f(S_{t_{k}}) = \\alpha_1 + \\alpha_2 S_{t_k} + \\alpha_3 S_{t_k}^{2}\n",
    "\\end{equation*}\n",
    "$$"
   ]
  },
  {
   "cell_type": "code",
   "execution_count": 4,
   "id": "fbc12f38",
   "metadata": {},
   "outputs": [],
   "source": [
    "# d rows and N columns\n",
    "def brownian_motion(T : float,N : int,d : int):\n",
    "    if d == 1:\n",
    "        return(np.insert(np.random.normal(scale = sqrt(T/N), size = N).cumsum(), 0, 0))\n",
    "    elif d > 1:\n",
    "        return(np.insert(np.random.normal(scale = sqrt(T/N), size = (d,N)).cumsum(axis = 1), 0, 0, axis = 1))"
   ]
  },
  {
   "cell_type": "code",
   "execution_count": 5,
   "id": "ea5f5ff4",
   "metadata": {},
   "outputs": [],
   "source": [
    "payoff_call = lambda x,K : (x-K)*(x-K >=0)\n",
    "payoff_put = lambda x,K : (K-x)*(K-x >=0)\n",
    "BS_process = lambda x0,r,sigma,t,W : x0*np.exp( (r- (sigma**2)/2)*t + sigma*W ) \n",
    "D = lambda X , t , r=r_input : X*exp(-r*t) # Discounting X from time 0 to time t"
   ]
  },
  {
   "cell_type": "code",
   "execution_count": 6,
   "id": "be07eda4",
   "metadata": {},
   "outputs": [],
   "source": [
    "W = brownian_motion(T,m,MC)\n",
    "S = BS_process(S0,r_input,sigma,t,W) #St[i] gives the i-th trajectory therefore St[i,k] = S_{t_k}^{i}"
   ]
  },
  {
   "cell_type": "code",
   "execution_count": 7,
   "id": "eec87a67",
   "metadata": {},
   "outputs": [
    {
     "data": {
      "image/png": "[encoded data removed]",
      "text/plain": [
       "<Figure size 720x360 with 1 Axes>"
      ]
     },
     "metadata": {
      "needs_background": "light"
     },
     "output_type": "display_data"
    }
   ],
   "source": [
    "plt.subplots(figsize=(10,5))\n",
    "\n",
    "for i in range(4):\n",
    "    plt.plot(t[0],S[i], label = \"{}-th trajectory\".format(i+1))\n",
    "\n",
    "plt.xlabel(\"Time\") ; plt.title(\"plot of some underlying S trajectories\")\n",
    "plt.grid() ; plt.legend()\n",
    "plt.show()"
   ]
  },
  {
   "cell_type": "code",
   "execution_count": 8,
   "id": "95d2a556",
   "metadata": {},
   "outputs": [],
   "source": [
    "def LongStaff(S0 = S0, r = r_input, sigma = sigma, K = K, T = T, payoff = payoff_put, f = f, m = m, MC = MC):\n",
    "    t = np.linspace(0,T,m+1)\n",
    "    #m = len(t[0])\n",
    "    D = np.exp(-r*(T/m))\n",
    "    W = brownian_motion(T,m,MC)\n",
    "    S = BS_process(S0,r,sigma,t,W) #St[i] gives the i-th trajectory therefore St[i,k] = S_{t_k}^{i}\n",
    "    \n",
    "    V = np.zeros(S.shape)\n",
    "    V[:,-1] = payoff(S[:,-1],K) #the terminal value can only be the payoff of the option\n",
    "    alphas = []\n",
    "    for i in tqdm(range(m-1,0,-1)): # loop backward in time\n",
    "        alpha, _ = curve_fit(f,xdata = S[:,i] ,ydata = V[:,i+1]) # y_{data} = f(x_{data}) + \\varepsilon\n",
    "        alphas.append(alpha)\n",
    "\n",
    "        for j in range(MC-1,-1,-1): #loop in sample paths\n",
    "            if (payoff(S[j,i],K) >= D*f(S[j,i],alpha[0],alpha[1],alpha[2])) :\n",
    "                V[j,i] = payoff(S[j,i],K)\n",
    "            else:\n",
    "                V[j,i] = D*V[j,i+1] \n",
    "    V0 = max(payoff(S0,K), D*V[:,1].mean())\n",
    "    return V0, alphas[::-1] "
   ]
  },
  {
   "cell_type": "code",
   "execution_count": 9,
   "id": "mineral-management",
   "metadata": {},
   "outputs": [
    {
     "name": "stderr",
     "output_type": "stream",
     "text": [
      "  0%|                                                                                           | 0/10 [00:00<?, ?it/s]\n",
      "  0%|                                                                                           | 0/29 [00:00<?, ?it/s]\u001b[A\n",
      " 14%|███████████▍                                                                       | 4/29 [00:00<00:00, 38.97it/s]\u001b[A\n",
      "100%|█████████████████████████████████████████████████████████████████████████████████| 29/29 [00:00<00:00, 111.55it/s]\u001b[A\n",
      " 10%|████████▎                                                                          | 1/10 [00:00<00:02,  3.76it/s]\n",
      "  0%|                                                                                           | 0/29 [00:00<?, ?it/s]\u001b[A\n",
      "100%|█████████████████████████████████████████████████████████████████████████████████| 29/29 [00:00<00:00, 165.59it/s]\u001b[A\n",
      " 20%|████████████████▌                                                                  | 2/10 [00:00<00:01,  4.64it/s]\n",
      "  0%|                                                                                           | 0/29 [00:00<?, ?it/s]\u001b[A\n",
      "100%|█████████████████████████████████████████████████████████████████████████████████| 29/29 [00:00<00:00, 162.07it/s]\u001b[A\n",
      " 30%|████████████████████████▉                                                          | 3/10 [00:00<00:01,  4.91it/s]\n",
      "  0%|                                                                                           | 0/29 [00:00<?, ?it/s]\u001b[A\n",
      "100%|█████████████████████████████████████████████████████████████████████████████████| 29/29 [00:00<00:00, 161.04it/s]\u001b[A\n",
      " 40%|█████████████████████████████████▏                                                 | 4/10 [00:00<00:01,  5.04it/s]\n",
      "  0%|                                                                                           | 0/29 [00:00<?, ?it/s]\u001b[A\n",
      "100%|█████████████████████████████████████████████████████████████████████████████████| 29/29 [00:00<00:00, 154.44it/s]\u001b[A\n",
      " 50%|█████████████████████████████████████████▌                                         | 5/10 [00:01<00:00,  5.08it/s]\n",
      "  0%|                                                                                           | 0/29 [00:00<?, ?it/s]\u001b[A\n",
      "100%|█████████████████████████████████████████████████████████████████████████████████| 29/29 [00:00<00:00, 157.72it/s]\u001b[A\n",
      " 60%|█████████████████████████████████████████████████▊                                 | 6/10 [00:01<00:00,  5.15it/s]\n",
      "  0%|                                                                                           | 0/29 [00:00<?, ?it/s]\u001b[A\n",
      "100%|█████████████████████████████████████████████████████████████████████████████████| 29/29 [00:00<00:00, 149.81it/s]\u001b[A\n",
      " 70%|██████████████████████████████████████████████████████████                         | 7/10 [00:01<00:00,  5.12it/s]\n",
      "  0%|                                                                                           | 0/29 [00:00<?, ?it/s]\u001b[A\n",
      "100%|█████████████████████████████████████████████████████████████████████████████████| 29/29 [00:00<00:00, 157.52it/s]\u001b[A\n",
      " 80%|██████████████████████████████████████████████████████████████████▍                | 8/10 [00:01<00:00,  5.17it/s]\n",
      "  0%|                                                                                           | 0/29 [00:00<?, ?it/s]\u001b[A\n",
      "100%|█████████████████████████████████████████████████████████████████████████████████| 29/29 [00:00<00:00, 141.11it/s]\u001b[A\n",
      " 90%|██████████████████████████████████████████████████████████████████████████▋        | 9/10 [00:01<00:00,  5.01it/s]\n",
      "  0%|                                                                                           | 0/29 [00:00<?, ?it/s]\u001b[A\n",
      " 41%|█████████████████████████████████▌                                               | 12/29 [00:00<00:00, 116.47it/s]\u001b[A\n",
      "100%|█████████████████████████████████████████████████████████████████████████████████| 29/29 [00:00<00:00, 131.53it/s]\u001b[A\n",
      "100%|██████████████████████████████████████████████████████████████████████████████████| 10/10 [00:02<00:00,  4.91it/s]"
     ]
    },
    {
     "name": "stdout",
     "output_type": "stream",
     "text": [
      "Longstaff | The value of the option is : 21.435011011375984 with IC = [21.415629421201317, 21.45439260155065]\n"
     ]
    },
    {
     "name": "stderr",
     "output_type": "stream",
     "text": [
      "\n"
     ]
    }
   ],
   "source": [
    "V0_arr = np.zeros(10)\n",
    "for i in tqdm(range(len(V0_arr))):\n",
    "    V0_arr[i], alphas = LongStaff(S0=S0, K =K,r = r_input, T = T, sigma = sigma, payoff = payoff_put, m = m, MC = MC)\n",
    "        \n",
    "price = V0_arr.mean()\n",
    "std = np.std(V0_arr)\n",
    "IC = [price-1.96*std/sqrt(MC),price+1.96*std/sqrt(MC)]\n",
    "print(\"Longstaff | The value of the option is : {} with IC = {}\".format(price,IC))"
   ]
  },
  {
   "cell_type": "markdown",
   "id": "stone-search",
   "metadata": {},
   "source": [
    "##### I.3.1 - The dual problem "
   ]
  },
  {
   "cell_type": "markdown",
   "id": "hollywood-structure",
   "metadata": {},
   "source": [
    "The methods seen earlier can only produce a lower bound. Which can be an issue because even if the the method converges toward the real price (if the time step goes to $0$ and the number and sample paths goes to $+ \\infty$) it still converges by below so it's an issue if we want a proper confidence interval for the **true** price. Therefore we need to consider other methods.          \n",
    "First of all one can see that what we are dealing with is an optimisation problem. Indeed the problem considered can be seen as the primal. One could thus think of the dual problem."
   ]
  },
  {
   "cell_type": "markdown",
   "id": "geological-kruger",
   "metadata": {},
   "source": [
    "The dual problem is the following : \n",
    "$$\n",
    "\\begin{equation}\n",
    "    v(t,x) = \\underset{M \\in H^1_0}{essinf} \\left( \\mathbb{E}^{\\mathbb{Q}} \\left[ \\underset{0 \\leq s \\leq T}{sup} \\left( Z_s - M_ts \\right) \\middle| \\mathcal{F}_t \\right] \\right)\n",
    "\\end{equation}\n",
    "$$"
   ]
  },
  {
   "cell_type": "markdown",
   "id": "featured-auditor",
   "metadata": {},
   "source": [
    "Where $H^1_0$ is the following set : \n",
    "$$\n",
    "\\begin{equation}\n",
    "    H^1_0 = \\left\\{ M \\text{ martingale s.t ,} \\sup \\left( M_t \\right) < + \\infty \\text{ and } M_0 = 0 \\right\\} \n",
    "\\end{equation}\n",
    "$$"
   ]
  },
  {
   "cell_type": "markdown",
   "id": "piano-wings",
   "metadata": {},
   "source": [
    "**proof :**        \n",
    "Let $M \\in H^1_0$\n",
    "$$\n",
    "\\begin{align*}\n",
    "    v(t,x) &= \\underset{\\tau \\in \\mathcal{T}_t}{essup} \\left( \\mathbb{E}^{\\mathbb{Q}} \\left[ Z_{\\tau} \\middle| \\mathcal{F}_t \\right] \\right) \\\\\n",
    "    &= \\underset{\\tau \\in \\mathcal{T}_t}{essup} \\left( \\mathbb{E}^{\\mathbb{Q}} \\left[ Z_{\\tau} + M_{\\tau} - M_{\\tau} \\middle| \\mathcal{F}_t \\right] \\right) \\\\\n",
    "    &= \\underset{\\tau \\in \\mathcal{T}_t}{essup} \\left( \\mathbb{E}^{\\mathbb{Q}} \\left[ Z_{\\tau}  - M_{\\tau} \\middle| \\mathcal{F}_t \\right] + \\mathbb{E}^{\\mathbb{Q}} \\left[  M_{\\tau} \\middle| \\mathcal{F}_t \\right] \\right) \\\\\n",
    "    &= \\underset{\\tau \\in \\mathcal{T}_t}{essup} \\left( \\mathbb{E}^{\\mathbb{Q}} \\left[ Z_{\\tau}  - M_{\\tau} \\middle| \\mathcal{F}_t \\right] + M_0 \\right) \\quad \\left( M_t \\right)_{0 \\leq t \\leq T} \\text{ est une martingale}\\\\\n",
    "    &= \\underset{\\tau \\in \\mathcal{T}_t}{essup} \\left( \\mathbb{E}^{\\mathbb{Q}} \\left[ Z_{\\tau}  - M_{\\tau} \\middle| \\mathcal{F}_t \\right] \\right) \\quad M_0 = 0\\\\\n",
    "    &\\leq \\mathbb{E}^{\\mathbb{Q}} \\left[ \\underset{\\tau \\in \\mathcal{T}_t}{\\sup} \\left( Z_{\\tau}  - M_{\\tau} \\right) \\middle| \\mathcal{F}_t \\right] \\\\\n",
    "\\end{align*}\n",
    "$$\n",
    "next is ..."
   ]
  },
  {
   "cell_type": "markdown",
   "id": "detected-amber",
   "metadata": {},
   "source": [
    "#### I.3 - Example"
   ]
  },
  {
   "cell_type": "markdown",
   "id": "b534bb55",
   "metadata": {},
   "source": [
    "### American option pricing by Rogers method"
   ]
  },
  {
   "cell_type": "code",
   "execution_count": 2053,
   "id": "functional-france",
   "metadata": {},
   "outputs": [],
   "source": [
    "def european_put(S, r=r_input, sigma=sigma, K=K, t=t):\n",
    "    '''\n",
    "    Pricing a European put along times t over underlying trajectories S\n",
    "\n",
    "    S : (MC,m+1) array of underlying trajectories\n",
    "    r : risk-free rate\n",
    "    sigma : volatility\n",
    "    K : strike\n",
    "    t : (1,m+1) time array \n",
    "\n",
    "    output : (MC,m+1) array of analytical European put prices\n",
    "    '''\n",
    "    t[:,-1] -= 10e-15 # Silencing div. by zero warning\n",
    "    d1 = ( log(S/K) + (r + sigma**2/2)*(T-t) ) / (sigma*sqrt(T-t))\n",
    "    d2 = d1 - sigma*sqrt(T-t) \n",
    "    return K*exp(-r*(T-t))*ncdf(-d2) - S*ncdf(-d1) \n",
    "\n",
    "\n",
    "def rogers(N, S=S, r=r_input, sigma=sigma, K=K, t=t):\n",
    "    '''\n",
    "    Compute N times Rogers upper bound on the price of an American put option\n",
    "\n",
    "    S : (MC,m+1) array of underlying trajectories\n",
    "    r : risk-free rate\n",
    "    sigma : volatility\n",
    "    K : strike\n",
    "    t : (1,m+1) time array\n",
    "\n",
    "    output : dictionnary with bounds and associated mean and std\n",
    "    '''\n",
    "    s0 = S[0,0]\n",
    "    MC = S.shape[0] # Number of paths\n",
    "    m = S.shape[1]-1 # Number of time steps\n",
    "    R = np.empty((N,1)) # Upper bounds\n",
    "    t = np.linspace(0,T,m+1)[np.newaxis,:] \n",
    "\n",
    "    for i in tqdm(range(N), desc='Rogers upper bounds'):\n",
    "        W = brownian_motion(T,m,MC) \n",
    "        S = BS_process(s0,r_input,sigma,t,W) \n",
    "\n",
    "        Z = D(payoff_put(S,K),t) # Discounted payoffs\n",
    "        M = D(european_put(S),t) # Discounted European put prices\n",
    "\n",
    "        sups = np.max( Z-(M-M[0,0]), axis=1) # Shifting martingale so that it starts at 0\n",
    "        mc_sup = sups.mean() \n",
    "        R[i] = mc_sup\n",
    "\n",
    "    return {'bounds' : R, 'mean' : R.mean(), 'std' : R.std(), 'mad' : np.abs(R-R.mean()).mean() }\n"
   ]
  },
  {
   "cell_type": "code",
   "execution_count": 2047,
   "id": "39073be2",
   "metadata": {},
   "outputs": [
    {
     "name": "stderr",
     "output_type": "stream",
     "text": [
      "Rogers upper bounds: 100%|██████████| 100/100 [00:23<00:00,  4.21it/s]"
     ]
    },
    {
     "name": "stdout",
     "output_type": "stream",
     "text": [
      "Rogers upper bound : 21.8243 +/- 0.0006, MAD = 0.0022\n"
     ]
    },
    {
     "name": "stderr",
     "output_type": "stream",
     "text": [
      "\n"
     ]
    }
   ],
   "source": [
    "R = rogers(100)\n",
    "print(f'Rogers upper bound : {R[\"mean\"]:.4f} +/- {1.96*R[\"std\"]/sqrt(100):.4f}, MAD = {R[\"mad\"]:.4f}')"
   ]
  },
  {
   "cell_type": "markdown",
   "id": "1c5b25a9",
   "metadata": {},
   "source": [
    "### American option pricing by Andersen-Broadie method"
   ]
  },
  {
   "cell_type": "code",
   "execution_count": 1773,
   "id": "f3a475c6",
   "metadata": {},
   "outputs": [],
   "source": [
    "def LS_region(slice, step, alphas):\n",
    "    '''\n",
    "    Compute LS-estimated continuation value of a list\n",
    "    ___________________________________________________________________________\n",
    "    slice : list of underlying values at time 'step'\n",
    "    step : time step\n",
    "    alphas : list of LS alphas parameters\n",
    "    '''\n",
    "    alpha = alphas[step]\n",
    "    B = np.zeros(len(slice))\n",
    "\n",
    "    for i in range(len(slice)-1):\n",
    "        B[i] = f(slice[i] , *alpha)\n",
    "    B[-1] = payoff_put(S0,K)\n",
    "    return B"
   ]
  },
  {
   "cell_type": "code",
   "execution_count": 1900,
   "id": "71d3117c",
   "metadata": {},
   "outputs": [],
   "source": [
    "def cond_exp(step, t, s0, K=K, alphas=alphas, N=100):\n",
    "    '''\n",
    "    Estimate the conditional expectation of the discounted payoff of an\n",
    "    American put option issued at time t[step], given the underlying is at s0,\n",
    "    following a strategy based on the exer£cise boundary B.\n",
    "    ___________________________________________________________________________\n",
    "    step : time step at which the option is issued\n",
    "    t : (1,m+1) time array\n",
    "    s0 : starting point of the underlying\n",
    "    K : strike\n",
    "    B : (1,m+1) array of exercise boundaries\n",
    "    N : number of paths to simulate\n",
    "    ___________________________________________________________________________\n",
    "    output : conditional expectation of the discounted payoff\n",
    "    '''\n",
    "\n",
    "    sub_S = np.stack([s0]*N) # Starting point the paths to come \n",
    "    payoffs = np.empty(N) # Payoffs of the paths to come\n",
    "    cont = np.arange(N) # Indexes of the paths to be continued\n",
    "    j = step + 1 # time index \n",
    "\n",
    "    while j<len(t) and cont.any()==True: # While there are remain active paths and time steps \n",
    "        sub_S[cont] = BS_process(sub_S[cont],r_input,sigma,t[1],brownian_motion(t[1], 1, 1)[-1]) # Simulate paths one step further\n",
    "        ex_ind = np.where( (LS_region(sub_S[cont],j,alphas) < payoff_put(sub_S[cont],K)) == 1 )[0] # Get indexes of paths that need to be exercised\n",
    "        payoffs[cont[ex_ind]] = payoff_put(sub_S[cont[ex_ind]],K) # Update payoffs \n",
    "        cont = cont[~ex_ind] # Remove exercised paths \n",
    "        j+=1\n",
    "    \n",
    "    return payoffs.mean()\n"
   ]
  },
  {
   "cell_type": "code",
   "execution_count": 1918,
   "id": "4031bcd9",
   "metadata": {},
   "outputs": [],
   "source": [
    "def andersen_broadie(B=B, S=S, r=r_input, sigma=sigma, K=K, t=t, N1=100, N2=100):\n",
    "    '''\n",
    "    Compute Andersen-Broadie upper bound on the price of an American put option\n",
    "    ___________________________________________________________________________\n",
    "    B : (1,m+1) array of exercise boundaries\n",
    "    S : (MC,m+1) array of underlying trajectories\n",
    "    r : risk-free rate\n",
    "    sigma : volatility\n",
    "    K : strike\n",
    "    t : (1,m+1) time array\n",
    "    ___________________________________________________________________________\n",
    "    output : Andersen & Broadie upper bound for american put options\n",
    "    '''\n",
    "\n",
    "    V = np.empty_like(S) # Discounted value of the option\n",
    "    EV = np.empty_like(S) # Expected discounted value of the option\n",
    "    V[:,0] = S[:,0] # Initial value of the option is the initial value of the underlying\n",
    "    EV[:,0] = S[:,0] # Initial value of the option is the initial value of the underlying\n",
    "    _, alphas = LongStaff(S[0,0], r=r_input, sigma=sigma, K=K, T=t[-1], m=m, MC=MC)\n",
    "\n",
    "    for step in range(len(t)): # We get cross-path slices at each time step\n",
    "        print(f'\\nTIME :  {step}')\n",
    "        path_slice = S[:,step] # Cross-paths slice of underlying trajectories at time t\n",
    "        value_slice = V[:,step]\n",
    "        ex_slice = LS_region(path_slice,step,alphas) < payoff_put(path_slice,K) # True if payoff is higher than expected LS-optimal future earnings\n",
    "\n",
    "        # Continued paths\n",
    "        cont_idx = np.where(ex_slice==0)[0]\n",
    "        print(f'cont_idx = {cont_idx}')\n",
    "        for i in cont_idx: \n",
    "            EV[step,i]  = cond_exp(step, t, path_slice[i], alphas=alphas, N=N1)\n",
    "            value_slice[i] = EV[step,i]\n",
    "\n",
    "        # Exercised paths\n",
    "        ex_ind = np.where(ex_slice==1)[0]\n",
    "        print(f'ex_ind : {ex_ind}')\n",
    "        for i in ex_ind: \n",
    "            print(f'value_slice shape : {value_slice[i].shape}')\n",
    "            print(f' p shape : {value_slice[i].shape}')\n",
    "            value_slice[i] = D(payoff_put(path_slice[i],K) , t) # Set discounted payoff as new value\n",
    "            EV[step,i] = cond_exp(step, t, path_slice[i], N=N2) # Update expected value\n",
    "\n",
    "    pi = np.zeros(S.shape)\n",
    "    pi[:1] = (V[:,1:]- EV[:,:-1]).cumsum(axis=0) # We sum martingale increments \n",
    "\n",
    "    maxs = ( D(payoff_put(S,K),t)- pi ).max(axis=0)\n",
    "    return maxs.mean()"
   ]
  }
 ],
 "metadata": {
  "kernelspec": {
   "display_name": "Python 3",
   "language": "python",
   "name": "python3"
  },
  "language_info": {
   "codemirror_mode": {
    "name": "ipython",
    "version": 3
   },
   "file_extension": ".py",
   "mimetype": "text/x-python",
   "name": "python",
   "nbconvert_exporter": "python",
   "pygments_lexer": "ipython3",
   "version": "3.7.10"
  },
  "vscode": {
   "interpreter": {
    "hash": "f9b56d49f99c2daf890ece62dc248b499c51f9790fadb3382032412c98e9ba55"
   }
  }
 },
 "nbformat": 4,
 "nbformat_minor": 5
}
